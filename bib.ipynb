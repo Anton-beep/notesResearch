{
 "cells": [
  {
   "cell_type": "code",
   "execution_count": 93,
   "metadata": {
    "ExecuteTime": {
     "end_time": "2023-12-09T08:15:42.149015300Z",
     "start_time": "2023-12-09T08:15:42.102485600Z"
    },
    "datalore": {
     "hide_input_from_viewers": false,
     "hide_output_from_viewers": false,
     "node_id": "nJheaWX4LAfLbB6Pk9hXVK",
     "report_properties": {
      "rowId": "GGFsD8QE2qfeafWuFfRe4q"
     },
     "type": "CODE"
    }
   },
   "outputs": [],
   "source": [
    "import pandas as pd\n",
    "import seaborn as sns\n",
    "from matplotlib import pyplot as plt\n",
    "import scipy.stats as stats\n",
    "import itertools\n",
    "import numpy as np\n",
    "from sklearn.linear_model import LinearRegression\n",
    "from sklearn.model_selection import train_test_split"
   ]
  },
  {
   "cell_type": "code",
   "execution_count": 94,
   "metadata": {
    "ExecuteTime": {
     "end_time": "2023-12-09T08:15:42.150014200Z",
     "start_time": "2023-12-09T08:15:42.122507100Z"
    },
    "datalore": {
     "hide_input_from_viewers": true,
     "hide_output_from_viewers": true,
     "node_id": "te4XjWzCKgcm3X6xwUf64A",
     "type": "CODE"
    }
   },
   "outputs": [],
   "source": [
    "df = pd.read_csv('../Данные по использованию климатических систем.csv', sep=';')"
   ]
  },
  {
   "cell_type": "code",
   "execution_count": 95,
   "metadata": {
    "ExecuteTime": {
     "end_time": "2023-12-09T08:15:42.178535500Z",
     "start_time": "2023-12-09T08:15:42.147015200Z"
    },
    "datalore": {
     "hide_input_from_viewers": true,
     "hide_output_from_viewers": true,
     "node_id": "G29n9anWe06cz0aGOEMuhx",
     "type": "CODE"
    }
   },
   "outputs": [
    {
     "data": {
      "text/plain": [
       "<Figure size 640x480 with 0 Axes>"
      ]
     },
     "metadata": {},
     "output_type": "display_data"
    }
   ],
   "source": [
    "params = {'text.color': \"white\", \"font.size\": 12}\n",
    "plt.rcParams.update(params)\n",
    "plt.tight_layout()\n",
    "sns.set(style=\"whitegrid\", font_scale=1.5)"
   ]
  },
  {
   "cell_type": "code",
   "execution_count": 96,
   "metadata": {
    "ExecuteTime": {
     "end_time": "2023-12-09T08:15:42.275751800Z",
     "start_time": "2023-12-09T08:15:42.177535300Z"
    },
    "datalore": {
     "hide_input_from_viewers": false,
     "hide_output_from_viewers": false,
     "node_id": "bUsvndE9gyvaJSm9nqcrPp",
     "report_properties": {
      "rowId": "D9t96NRsLyjDOK5CWneyGc"
     },
     "type": "CODE"
    }
   },
   "outputs": [
    {
     "data": {
      "text/plain": [
       "['год',\n",
       " 'время_года',\n",
       " 'климат',\n",
       " 'город',\n",
       " 'страна',\n",
       " 'способ_охлаждения',\n",
       " 'режим_при_смешанном_типе_охлаждения',\n",
       " 'способ_обогрева',\n",
       " 'возраст',\n",
       " 'пол',\n",
       " 'ощущение_температуры',\n",
       " 'ощущение_температуры_(bool)',\n",
       " 'предпочтительное_изменение_температуры',\n",
       " 'ощущение_движения_воздуха_(bool)',\n",
       " 'предпочтительное_изменение_движения_воздуха',\n",
       " 'оценка_комфорта',\n",
       " 'утепление',\n",
       " 'температура_воздуха_в_помещении',\n",
       " 'температура_воздуха_на_улице',\n",
       " 'rh',\n",
       " 'скорость_воздуха',\n",
       " 'рост',\n",
       " 'вес',\n",
       " 'занавески',\n",
       " 'вентилятор',\n",
       " 'окно',\n",
       " 'двери',\n",
       " 'отопление',\n",
       " 'среднемесячная_температура_на_улице',\n",
       " 'количество_рекламаций']"
      ]
     },
     "execution_count": 96,
     "metadata": {},
     "output_type": "execute_result"
    }
   ],
   "source": [
    "# PEP8\n",
    "\n",
    "def make_word_pep8style(word: str) -> str:\n",
    "    return word.lower().replace(' ', '_')\n",
    "\n",
    "df = df.rename(make_word_pep8style, axis='columns')\n",
    "\n",
    "list(df.columns)"
   ]
  },
  {
   "cell_type": "markdown",
   "metadata": {
    "datalore": {
     "hide_input_from_viewers": true,
     "hide_output_from_viewers": true,
     "node_id": "SIlgOGQpSDFZ3TF2xClOV3",
     "type": "MD"
    }
   },
   "source": [
    "# Исследование данных на качество и предобработка"
   ]
  },
  {
   "cell_type": "markdown",
   "metadata": {
    "datalore": {
     "hide_input_from_viewers": true,
     "hide_output_from_viewers": true,
     "node_id": "NLxoNnzQVw7JoUc5NtDu3Y",
     "type": "MD"
    }
   },
   "source": [
    "Разделим данные на числовые и категориальные"
   ]
  },
  {
   "cell_type": "code",
   "execution_count": 97,
   "metadata": {
    "ExecuteTime": {
     "end_time": "2023-12-09T08:15:42.275751800Z",
     "start_time": "2023-12-09T08:15:42.187547800Z"
    },
    "datalore": {
     "hide_input_from_viewers": true,
     "hide_output_from_viewers": true,
     "node_id": "RfSf61i8PUd1qVoNYETUpW",
     "type": "CODE"
    }
   },
   "outputs": [],
   "source": [
    "numerical = [\n",
    "    'возраст',\n",
    "    'температура_воздуха_в_помещении',\n",
    "    'температура_воздуха_на_улице',\n",
    "    'rh',\n",
    "    'скорость_воздуха',\n",
    "    'рост',\n",
    "    'вес',\n",
    "    'среднемесячная_температура_на_улице',\n",
    "    'количество_рекламаций',\n",
    "    'утепление',\n",
    "    'ощущение_температуры',\n",
    "    'оценка_комфорта',\n",
    "]\n",
    "categorial = list(set(df.columns) ^ set(numerical))\n",
    "\n",
    "categorial_bool = [\n",
    "    'ощущение_температуры_(bool)',\n",
    "    'занавески',\n",
    "    'вентилятор',\n",
    "    'окно',\n",
    "    'двери',\n",
    "    'отопление'\n",
    "]"
   ]
  },
  {
   "cell_type": "markdown",
   "metadata": {
    "datalore": {
     "hide_input_from_viewers": true,
     "hide_output_from_viewers": true,
     "node_id": "bYA0N1Sf7Hdmont5Fzakpy",
     "type": "MD"
    }
   },
   "source": [
    "## Первичный графический анализ\n",
    "\n",
    "для поиска используя графический метод в категориальных факторах используем круговую диаграмму, а в количественных гистограммы и ящик с усами (boxplot)"
   ]
  },
  {
   "cell_type": "markdown",
   "metadata": {
    "datalore": {
     "hide_input_from_viewers": true,
     "hide_output_from_viewers": true,
     "node_id": "KKM0konLL37kDjimpkpZxo",
     "type": "MD"
    }
   },
   "source": [
    "### Для каждого числового столбца построим гистограмму и ящик с усами"
   ]
  },
  {
   "cell_type": "code",
   "execution_count": null,
   "metadata": {
    "ExecuteTime": {
     "end_time": "2023-12-09T08:15:55.487407400Z",
     "start_time": "2023-12-09T08:15:42.218560200Z"
    },
    "datalore": {
     "hide_input_from_viewers": true,
     "hide_output_from_viewers": true,
     "node_id": "O5dNJLvTrZRI6Ab5LJckiM",
     "type": "CODE"
    }
   },
   "outputs": [],
   "source": [
    "fig, ax = plt.subplots(len(numerical), 2)\n",
    "fig.set_figheight(40)\n",
    "fig.set_figwidth(13)\n",
    "fig.tight_layout(h_pad=2)\n",
    "\n",
    "for i, col in enumerate(numerical):\n",
    "    sns.histplot(df[col], kde=True, ax=ax[i][0])\n",
    "    sns.boxplot(df[col], ax=ax[i][1])\n",
    "    ax[i][0].set_xlabel(\"\")\n",
    "    ax[i][0].set_title(col)"
   ]
  },
  {
   "cell_type": "markdown",
   "metadata": {
    "datalore": {
     "hide_input_from_viewers": true,
     "hide_output_from_viewers": true,
     "node_id": "cVZDPWxtERXnxkXBUgKt7H",
     "type": "MD"
    }
   },
   "source": [
    "### А для каждого категориального столбца построим круговую диаграму"
   ]
  },
  {
   "cell_type": "code",
   "execution_count": null,
   "metadata": {
    "ExecuteTime": {
     "end_time": "2023-12-09T08:15:58.190488Z",
     "start_time": "2023-12-09T08:15:55.487407400Z"
    },
    "datalore": {
     "hide_input_from_viewers": true,
     "hide_output_from_viewers": true,
     "node_id": "XodNTz7aHBuClrmBXHe15v",
     "type": "CODE"
    }
   },
   "outputs": [],
   "source": [
    "fig, ax = plt.subplots((len(categorial) + 1) // 2, 2)\n",
    "fig.set_figheight(30)\n",
    "fig.set_figwidth(13)\n",
    "fig.tight_layout(h_pad=0)\n",
    "for i, col in enumerate(categorial):\n",
    "    value_counts = pd.value_counts(df[col], dropna=False)\n",
    "    ax[i // 2][i % 2].pie(value_counts, labels=value_counts.index)\n",
    "    ax[i // 2][i % 2].set_title(col)"
   ]
  },
  {
   "cell_type": "markdown",
   "metadata": {
    "datalore": {
     "hide_input_from_viewers": true,
     "hide_output_from_viewers": true,
     "node_id": "NVDd4M2lsQG3Sd5iYcRUyi",
     "type": "MD"
    }
   },
   "source": [
    "## Исправление орфографических ошибок (task2)\n",
    "\n",
    "Обнаружены орфографические ошибки:\n",
    "- В столбце **\"предпочтительное_изменение_температуры\"** *\"Тепле\"* и *\"Холодн\"*\n",
    "- В столбце **\"климат\"** *\"Субтроп океанич\"*"
   ]
  },
  {
   "cell_type": "code",
   "execution_count": null,
   "metadata": {
    "ExecuteTime": {
     "end_time": "2023-12-09T08:15:58.857487900Z",
     "start_time": "2023-12-09T08:15:58.188479700Z"
    },
    "datalore": {
     "hide_input_from_viewers": true,
     "hide_output_from_viewers": true,
     "node_id": "UCUXM0JIf28yu1NIqfSB8E",
     "type": "CODE"
    }
   },
   "outputs": [],
   "source": [
    "def fix_spelling_1st_problem(word: str) -> str:\n",
    "    return \"Теплее\" if word == \"Тепле\" else \"Холоднее\" if word == \"Холодн\" else word\n",
    " \n",
    "def fix_spelling_2nd_problem(word: str) -> str:\n",
    "    return \"Cубтропический океанический\" if word == \"Cубтроп океанич\" else word\n",
    "\n",
    "df[\"предпочтительное_изменение_температуры\"] = df[\"предпочтительное_изменение_температуры\"].apply(fix_spelling_1st_problem)\n",
    "df[\"климат\"] = df[\"климат\"].apply(fix_spelling_2nd_problem)\n",
    "\n",
    "# Проверка \n",
    "\n",
    "columns = ['предпочтительное_изменение_температуры', 'климат']\n",
    "\n",
    "fig, ax = plt.subplots(1, 2)\n",
    "fig.set_figheight(30)\n",
    "fig.set_figwidth(13)\n",
    "fig.tight_layout(h_pad=0)\n",
    "for ind, col in enumerate(columns):\n",
    "    value_counts = pd.value_counts(df[col], dropna=False)\n",
    "    ax[ind].pie(value_counts, labels=value_counts.index)\n",
    "    ax[ind].set_title(col)"
   ]
  },
  {
   "cell_type": "markdown",
   "metadata": {
    "datalore": {
     "hide_input_from_viewers": true,
     "hide_output_from_viewers": true,
     "node_id": "pwdwhp6TbPAnZZNAmCnlPk",
     "type": "MD"
    }
   },
   "source": [
    "## Исправление выбросов в росте (task5)\n",
    "\n",
    "рост ~140 см считаем не аномалией"
   ]
  },
  {
   "cell_type": "code",
   "execution_count": null,
   "metadata": {
    "ExecuteTime": {
     "end_time": "2023-12-09T08:15:58.858486800Z",
     "start_time": "2023-12-09T08:15:58.458610300Z"
    },
    "datalore": {
     "hide_input_from_viewers": true,
     "hide_output_from_viewers": true,
     "node_id": "auIkAtdsckaR7FQjDXo7Zh",
     "type": "CODE"
    }
   },
   "outputs": [],
   "source": [
    "def fix_height(num: int) -> int:\n",
    "    return None if num < 135 else num\n",
    "\n",
    "df['рост'] = df['рост'].apply(fix_height)\n",
    "\n",
    "fig, ax = plt.subplots()\n",
    "sns.boxplot(df['рост'], ax=ax)\n",
    "ax.set_title(\"рост\")"
   ]
  },
  {
   "cell_type": "markdown",
   "metadata": {
    "datalore": {
     "hide_input_from_viewers": true,
     "hide_output_from_viewers": true,
     "node_id": "fR4EFnvjLc6k0FRM1qDVFR",
     "type": "MD"
    }
   },
   "source": [
    "## Исправление выбросов в скорости воздуха (task5)\n",
    "\n",
    "скорость > 5 м/с в помещении считаем аномальной"
   ]
  },
  {
   "cell_type": "code",
   "execution_count": null,
   "metadata": {
    "ExecuteTime": {
     "end_time": "2023-12-09T08:15:59.264756100Z",
     "start_time": "2023-12-09T08:15:58.729636600Z"
    },
    "datalore": {
     "hide_input_from_viewers": true,
     "hide_output_from_viewers": true,
     "node_id": "Nb2LaZLlQh0rtsXns2AxlX",
     "type": "CODE"
    }
   },
   "outputs": [],
   "source": [
    "# заменяем все показания в колонке скорость воздуха больше 30 на None, ибо такие показатели аномальные\n",
    "df['скорость_воздуха'] = df['скорость_воздуха'].apply(lambda x: None if x > 5 or x is None else x)\n",
    "\n",
    "sns.boxplot(df['скорость_воздуха'])"
   ]
  },
  {
   "cell_type": "markdown",
   "metadata": {
    "datalore": {
     "hide_input_from_viewers": true,
     "hide_output_from_viewers": true,
     "node_id": "L4x1FNnWdh3FS1qv1q3AYN",
     "type": "MD"
    }
   },
   "source": [
    "## Исследование колонок с температурой (task5)\n",
    "\n",
    "Исследуем аномалии используя boxplot"
   ]
  },
  {
   "cell_type": "code",
   "execution_count": null,
   "metadata": {
    "ExecuteTime": {
     "end_time": "2023-12-09T08:15:59.960249100Z",
     "start_time": "2023-12-09T08:15:58.950537800Z"
    },
    "datalore": {
     "hide_input_from_viewers": true,
     "hide_output_from_viewers": true,
     "node_id": "Ew40zFVaQ1muRiFiHzg0qT",
     "type": "CODE"
    }
   },
   "outputs": [],
   "source": [
    "temperature_cols = [\n",
    "    'температура_воздуха_в_помещении',\n",
    "    'температура_воздуха_на_улице',\n",
    "    'среднемесячная_температура_на_улице'\n",
    "]\n",
    "fig, ax = plt.subplots(3, 1)\n",
    "fig.set_figwidth(11)\n",
    "fig.set_figheight(15)\n",
    "for i, col in enumerate(temperature_cols):\n",
    "    sns.boxplot(data=df, x='страна', y=col, ax=ax[i])"
   ]
  },
  {
   "cell_type": "markdown",
   "metadata": {
    "datalore": {
     "hide_input_from_viewers": true,
     "hide_output_from_viewers": true,
     "node_id": "MhX2ki9MawYTBqaNOiXO4L",
     "type": "MD"
    }
   },
   "source": [
    "Заметим, что у США наблюдаются выбросы в большую сторону. Предположим, что температура указана в °F. Тогда конвертируем все значения больше 40 из °F в °C. "
   ]
  },
  {
   "cell_type": "code",
   "execution_count": null,
   "metadata": {
    "ExecuteTime": {
     "end_time": "2023-12-09T08:16:00.245355900Z",
     "start_time": "2023-12-09T08:15:59.960249100Z"
    },
    "datalore": {
     "hide_input_from_viewers": true,
     "hide_output_from_viewers": true,
     "node_id": "cxeT84zhW9X3ceh8ZaPJj0",
     "type": "CODE"
    }
   },
   "outputs": [],
   "source": [
    "def f2c(row):\n",
    "    if row[17] is None:\n",
    "        return None\n",
    "    \n",
    "    if row[4] == 'США':\n",
    "        if row[17] > 40:\n",
    "            return row[17] * 5 / 9 - 32\n",
    "    return row[17]\n",
    "\n",
    "df_new = pd.DataFrame()\n",
    "df_new['страна'] = df['страна']\n",
    "df_new['время_года'] = df['время_года']\n",
    "df_new['температура_воздуха_в_помещении'] = df.apply(f2c, axis=1)\n",
    "# print(df_new[df_new['время_года'] == 'Лето'])\n",
    "fig, ax = plt.subplots(1, 1)\n",
    "fig.set_figheight(8)\n",
    "fig.set_figwidth(9)\n",
    "sns.boxplot(data=df_new[df_new['время_года'] == 'Лето'], x='страна', y='температура_воздуха_в_помещении', ax=ax)"
   ]
  },
  {
   "cell_type": "markdown",
   "metadata": {
    "datalore": {
     "hide_input_from_viewers": true,
     "hide_output_from_viewers": true,
     "node_id": "b2IVDvBKLWAFfdLsX7LX9e",
     "type": "MD"
    }
   },
   "source": [
    "Поскольку после приведения температуры из °F в °C, оказалось, что в США летом температура в помещении составила в нижней квартили 12°C, поэтому гипотезу отвергаем. Значит мы имеем дело с выбросами"
   ]
  },
  {
   "cell_type": "code",
   "execution_count": null,
   "metadata": {
    "ExecuteTime": {
     "end_time": "2023-12-09T08:16:01.418228300Z",
     "start_time": "2023-12-09T08:16:00.199352700Z"
    },
    "datalore": {
     "hide_input_from_viewers": true,
     "hide_output_from_viewers": true,
     "node_id": "XtUV8aJlQAWsQVMkAJxumW",
     "type": "CODE"
    }
   },
   "outputs": [],
   "source": [
    "def chnge_temperature(row, c):\n",
    "    season = ['Лето', 'Зима', 'Осень', 'Весна']\n",
    "    season_idx = season.index(row[1])\n",
    "    col_idx = list(row.index).index(c)\n",
    "    if lower_bound[season_idx] <= row[col_idx] <= upper_bound[season_idx]:\n",
    "        return row[col_idx]\n",
    "    return None\n",
    "\n",
    "\n",
    "\n",
    "for col in temperature_cols:\n",
    "    Q1 = [\n",
    "        df[df['время_года'] == 'Лето'][col].quantile(0.25),\n",
    "        df[df['время_года'] == 'Зима'][col].quantile(0.25),\n",
    "        df[df['время_года'] == 'Осень'][col].quantile(0.25),\n",
    "        df[df['время_года'] == 'Весна'][col].quantile(0.25),\n",
    "    ]\n",
    "    Q3 = [\n",
    "        df[df['время_года'] == 'Лето'][col].quantile(0.75),\n",
    "        df[df['время_года'] == 'Зима'][col].quantile(0.75),\n",
    "        df[df['время_года'] == 'Осень'][col].quantile(0.75),\n",
    "        df[df['время_года'] == 'Весна'][col].quantile(0.75),\n",
    "    ]\n",
    "    IQR = [\n",
    "        Q3[0] - Q1[0],\n",
    "        Q3[1] - Q1[1],\n",
    "        Q3[2] - Q1[2],\n",
    "        Q3[3] - Q1[3],\n",
    "    ]\n",
    "    lower_bound = [\n",
    "        Q1[0] - 3 * IQR[0],\n",
    "        Q1[1] - 3 * IQR[1],\n",
    "        Q1[2] - 3 * IQR[2],\n",
    "        Q1[3] - 3 * IQR[3]\n",
    "    ]\n",
    "    upper_bound = [\n",
    "        Q3[0] + 3 * IQR[0],\n",
    "        Q3[1] + 3 * IQR[1],\n",
    "        Q3[2] + 3 * IQR[2],\n",
    "        Q3[3] + 3 * IQR[3],\n",
    "    ]\n",
    "    df[col] = df.apply(chnge_temperature, axis=1, c=col)\n",
    "\n",
    "fig, ax = plt.subplots(3, 1)\n",
    "fig.set_figwidth(15)\n",
    "fig.set_figheight(20)\n",
    "for i, col in enumerate(temperature_cols):\n",
    "    sns.boxplot(data=df, x='страна', y=col, ax=ax[i])"
   ]
  },
  {
   "cell_type": "code",
   "execution_count": null,
   "metadata": {
    "ExecuteTime": {
     "end_time": "2023-12-09T08:16:01.430767400Z",
     "start_time": "2023-12-09T08:16:01.418228300Z"
    }
   },
   "outputs": [],
   "source": [
    "df.isna().sum()"
   ]
  },
  {
   "cell_type": "markdown",
   "metadata": {
    "datalore": {
     "hide_input_from_viewers": true,
     "hide_output_from_viewers": true,
     "node_id": "sB4sw7NH8XMzqgzDEgCbed",
     "type": "MD"
    }
   },
   "source": [
    "## Обработка дубликатов (удаляем) (task4)"
   ]
  },
  {
   "cell_type": "code",
   "execution_count": null,
   "metadata": {
    "ExecuteTime": {
     "end_time": "2023-12-09T08:16:01.852612300Z",
     "start_time": "2023-12-09T08:16:01.428205800Z"
    },
    "datalore": {
     "hide_input_from_viewers": true,
     "hide_output_from_viewers": true,
     "node_id": "c5sZKygk8E4mjq4eaxG9b6",
     "type": "CODE"
    }
   },
   "outputs": [],
   "source": [
    "print(df.duplicated().value_counts())\n",
    "df = df.drop_duplicates()"
   ]
  },
  {
   "cell_type": "markdown",
   "metadata": {
    "datalore": {
     "hide_input_from_viewers": true,
     "hide_output_from_viewers": true,
     "node_id": "p3PMqOuu4yWXgj4g8aDKMW",
     "type": "MD"
    }
   },
   "source": [
    "## Заполнение пропусков\n",
    "Числовые пропуски заполняем сейчас, поскольку их довольно мало. Категориальные пропуски не трогаем до тех пор, пока не начнем с ними работать."
   ]
  },
  {
   "cell_type": "code",
   "execution_count": null,
   "metadata": {
    "ExecuteTime": {
     "end_time": "2023-12-09T08:16:01.852612300Z",
     "start_time": "2023-12-09T08:16:01.479820100Z"
    },
    "datalore": {
     "hide_input_from_viewers": true,
     "hide_output_from_viewers": true,
     "node_id": "ZcRdg72CV3DQ3X0Q2eKqJA",
     "type": "CODE"
    }
   },
   "outputs": [],
   "source": [
    "'количество строк, которые имеют пропуски:', len(df[df['возраст'].isna()])"
   ]
  },
  {
   "cell_type": "markdown",
   "metadata": {
    "datalore": {
     "hide_input_from_viewers": true,
     "hide_output_from_viewers": true,
     "node_id": "RuT4kBvdFGK5E09uSWjJww",
     "type": "MD"
    }
   },
   "source": [
    "#### Возраст"
   ]
  },
  {
   "cell_type": "code",
   "execution_count": null,
   "metadata": {
    "ExecuteTime": {
     "end_time": "2023-12-09T08:16:01.853609400Z",
     "start_time": "2023-12-09T08:16:01.499335Z"
    },
    "datalore": {
     "hide_input_from_viewers": true,
     "hide_output_from_viewers": true,
     "node_id": "LFDatac4K5iHSeNpfwBpgz",
     "type": "CODE"
    }
   },
   "outputs": [],
   "source": [
    "countries = df.groupby('страна')"
   ]
  },
  {
   "cell_type": "code",
   "execution_count": null,
   "metadata": {
    "ExecuteTime": {
     "end_time": "2023-12-09T08:16:01.853609400Z",
     "start_time": "2023-12-09T08:16:01.517343300Z"
    },
    "datalore": {
     "hide_input_from_viewers": true,
     "hide_output_from_viewers": true,
     "node_id": "AozBTw7uvI8XGwrEdZtY2k",
     "type": "CODE"
    }
   },
   "outputs": [],
   "source": [
    "def fillna_age(row):\n",
    "    if pd.isnull(row.loc['возраст']):\n",
    "        return age_median[row.loc['страна']]\n",
    "    return row.loc['возраст']\n",
    "\n",
    "\n",
    "age_median = countries['возраст'].median()\n",
    "df['возраст'] = df.apply(fillna_age, axis=1)"
   ]
  },
  {
   "cell_type": "markdown",
   "metadata": {
    "datalore": {
     "hide_input_from_viewers": true,
     "hide_output_from_viewers": true,
     "node_id": "pBBo6Eb666MuYMnezkxSgt",
     "type": "MD"
    }
   },
   "source": [
    "#### Скорость воздуха"
   ]
  },
  {
   "cell_type": "code",
   "execution_count": null,
   "metadata": {
    "ExecuteTime": {
     "end_time": "2023-12-09T08:16:01.853609400Z",
     "start_time": "2023-12-09T08:16:01.583989800Z"
    },
    "datalore": {
     "hide_input_from_viewers": true,
     "hide_output_from_viewers": true,
     "node_id": "4yPe9KykMmHzyJGjuvnSWy",
     "type": "CODE"
    }
   },
   "outputs": [],
   "source": [
    "wind_velocity_median = df['скорость_воздуха'].median()\n",
    "df['скорость_воздуха'] = df['скорость_воздуха'].apply(lambda x: wind_velocity_median if x is None else x)"
   ]
  },
  {
   "cell_type": "markdown",
   "metadata": {
    "datalore": {
     "hide_input_from_viewers": true,
     "hide_output_from_viewers": true,
     "node_id": "DPWweH8G47AJHcUHisjG6p",
     "type": "MD"
    }
   },
   "source": [
    "#### Температура воздуха в помещении"
   ]
  },
  {
   "cell_type": "code",
   "execution_count": null,
   "metadata": {
    "ExecuteTime": {
     "end_time": "2023-12-09T08:16:01.853609400Z",
     "start_time": "2023-12-09T08:16:01.594501800Z"
    },
    "datalore": {
     "hide_input_from_viewers": true,
     "hide_output_from_viewers": true,
     "node_id": "UyVXTyVmmWhV0jB6wyOtQr",
     "type": "CODE"
    }
   },
   "outputs": [],
   "source": [
    "groups = df.groupby(['год', 'время_года', 'город'])['температура_воздуха_в_помещении'].median()\n",
    "\n",
    "def fix_skips_temp_inside(row):\n",
    "    if pd.isna(row['температура_воздуха_в_помещении']):\n",
    "        return groups[row['год'], row['время_года'], row['город']]\n",
    "    return row['температура_воздуха_в_помещении']\n",
    "\n",
    "df['температура_воздуха_в_помещении'] = df.apply(fix_skips_temp_inside, axis=1)"
   ]
  },
  {
   "cell_type": "markdown",
   "metadata": {
    "datalore": {
     "hide_input_from_viewers": true,
     "hide_output_from_viewers": true,
     "node_id": "nlC3oIuIRrppFCLoUvjUym",
     "type": "MD"
    }
   },
   "source": [
    "#### Среднемесячная температура на улице"
   ]
  },
  {
   "cell_type": "code",
   "execution_count": null,
   "metadata": {
    "ExecuteTime": {
     "end_time": "2023-12-09T08:16:01.854609200Z",
     "start_time": "2023-12-09T08:16:01.641508800Z"
    },
    "datalore": {
     "hide_input_from_viewers": true,
     "hide_output_from_viewers": true,
     "node_id": "UVLbyx7qY46QDtB1ULHwKS",
     "type": "CODE"
    }
   },
   "outputs": [],
   "source": [
    "temperature_groups = df.groupby(['город', 'год', 'время_года'])['среднемесячная_температура_на_улице'].median()\n",
    "print(temperature_groups)\n",
    "\n",
    "temperature_groups['Хайдарабад', 2012, 'Осень'] = (\n",
    "    temperature_groups['Хайдарабад', 2012, 'Лето'] + temperature_groups['Хайдарабад', 2012, 'Зима']\n",
    ") / 2"
   ]
  },
  {
   "cell_type": "code",
   "execution_count": null,
   "metadata": {
    "ExecuteTime": {
     "end_time": "2023-12-09T08:16:01.854609200Z",
     "start_time": "2023-12-09T08:16:01.652506Z"
    },
    "datalore": {
     "hide_input_from_viewers": true,
     "hide_output_from_viewers": true,
     "node_id": "EblSJlhIKmByB1Fuq6tNhL",
     "type": "CODE"
    }
   },
   "outputs": [],
   "source": [
    "def fillna_age(row):\n",
    "    if pd.isnull(row['среднемесячная_температура_на_улице']):\n",
    "        return temperature_groups[row['город'], row['год'], row['время_года']]\n",
    "    return row['среднемесячная_температура_на_улице']\n",
    "\n",
    "\n",
    "df['среднемесячная_температура_на_улице'] = df.apply(fillna_age, axis=1)"
   ]
  },
  {
   "cell_type": "code",
   "execution_count": null,
   "metadata": {
    "ExecuteTime": {
     "end_time": "2023-12-09T08:16:01.854609200Z",
     "start_time": "2023-12-09T08:16:01.688580900Z"
    },
    "datalore": {
     "hide_input_from_viewers": true,
     "hide_output_from_viewers": true,
     "node_id": "tzKo0Z5WmZvE4JOQWwLfZb",
     "type": "CODE"
    }
   },
   "outputs": [],
   "source": [
    "# tools\n",
    "def show_pie_charts(_col1, _col2):\n",
    "    global df\n",
    "    _columns = sorted(df[_col1].dropna().unique())\n",
    "    _colors = ['green', 'blue', 'orange', 'pink', 'magenta', 'purple', 'red']\n",
    "    _all_possible_values = df[_col2].unique()\n",
    "\n",
    "    fig, ax = plt.subplots(len(_columns), 1)\n",
    "    fig.set_figheight(15)\n",
    "    fig.set_figwidth(10)\n",
    "    fig.tight_layout(h_pad=0)\n",
    "  \n",
    "    for _ind, _col in enumerate(_columns):\n",
    "        _vals = df[df[_col1] == _col][_col2].value_counts(dropna=True)\n",
    "        wedges, _ = ax[_ind].pie(_vals, colors=_colors)\n",
    "        ax[_ind].set_title(_col2)\n",
    "        ax[_ind].legend(wedges, _all_possible_values,\n",
    "          title=_col1 + ' = ' + str(_col),\n",
    "          loc=\"center left\",\n",
    "          bbox_to_anchor=(1, 0, 0.5, 1))"
   ]
  },
  {
   "cell_type": "markdown",
   "metadata": {
    "datalore": {
     "hide_input_from_viewers": true,
     "hide_output_from_viewers": true,
     "node_id": "31AdMaYZokuiZDHrWBJNPk",
     "type": "MD"
    }
   },
   "source": [
    "# Проведение расчётов и исследований"
   ]
  },
  {
   "cell_type": "markdown",
   "metadata": {
    "datalore": {
     "hide_input_from_viewers": true,
     "hide_output_from_viewers": true,
     "node_id": "9JO0olO7Hw7Nh4QLNQl68a",
     "type": "MD"
    }
   },
   "source": [
    "## Создание категориального стоблца кол-ва рекламаций (task6)"
   ]
  },
  {
   "cell_type": "code",
   "execution_count": null,
   "metadata": {
    "ExecuteTime": {
     "end_time": "2023-12-09T08:16:01.857612800Z",
     "start_time": "2023-12-09T08:16:01.708587300Z"
    },
    "datalore": {
     "hide_input_from_viewers": true,
     "hide_output_from_viewers": true,
     "node_id": "4uihUlIHblAToZvke4t3xo",
     "type": "CODE"
    }
   },
   "outputs": [],
   "source": [
    "df['количество_рекламаций_кат'] = ['мало' if i <= 1 else ('средне' if i == 2 else 'много') for i in df['количество_рекламаций']]\n",
    "df"
   ]
  },
  {
   "cell_type": "markdown",
   "metadata": {
    "datalore": {
     "hide_input_from_viewers": true,
     "hide_output_from_viewers": true,
     "node_id": "6gZjnbpPderaHekslXT0Jy",
     "type": "MD"
    }
   },
   "source": [
    "## Создание категориального столбца по возрастным группам (task 9)"
   ]
  },
  {
   "cell_type": "code",
   "execution_count": null,
   "metadata": {
    "ExecuteTime": {
     "end_time": "2023-12-09T08:16:01.884132400Z",
     "start_time": "2023-12-09T08:16:01.776556Z"
    },
    "datalore": {
     "hide_input_from_viewers": true,
     "hide_output_from_viewers": true,
     "node_id": "6hXKuhlRt7BLoguIau3TY3",
     "type": "CODE"
    }
   },
   "outputs": [],
   "source": [
    "df['возрастная_группа'] = ['молодой возраст' if i <= 44 else ('средний возраст' if 45 <= i <= 59 else 'пожилой возраст') for i in df['возраст']]"
   ]
  },
  {
   "cell_type": "markdown",
   "metadata": {
    "datalore": {
     "hide_input_from_viewers": true,
     "hide_output_from_viewers": true,
     "node_id": "buTY9FwYW99K0vrzzCK5ff",
     "type": "MD"
    }
   },
   "source": [
    "## Расчёт средней комфортной температуры в зависимости от возрастной категории (task7)"
   ]
  },
  {
   "cell_type": "code",
   "execution_count": null,
   "metadata": {
    "ExecuteTime": {
     "end_time": "2023-12-09T08:16:01.885638800Z",
     "start_time": "2023-12-09T08:16:01.795199600Z"
    },
    "datalore": {
     "hide_input_from_viewers": true,
     "hide_output_from_viewers": true,
     "node_id": "nMYGcGQQiFpR0GiBcZhsyX",
     "type": "CODE"
    }
   },
   "outputs": [],
   "source": [
    "df[df['ощущение_температуры_(bool)'] == 1].groupby(['возрастная_группа'])['температура_воздуха_в_помещении'].mean()"
   ]
  },
  {
   "cell_type": "markdown",
   "metadata": {
    "datalore": {
     "hide_input_from_viewers": true,
     "hide_output_from_viewers": true,
     "node_id": "vLxgPzcRjwzuM72Z5gKs05",
     "type": "MD"
    }
   },
   "source": [
    "## Средний возраст респондентов по полу и стране (task 8)"
   ]
  },
  {
   "cell_type": "markdown",
   "metadata": {
    "datalore": {
     "hide_input_from_viewers": true,
     "hide_output_from_viewers": true,
     "node_id": "JIrIQOCPK487bBj5ymskqo",
     "type": "MD"
    }
   },
   "source": [
    "По полу:"
   ]
  },
  {
   "cell_type": "code",
   "execution_count": null,
   "metadata": {
    "ExecuteTime": {
     "end_time": "2023-12-09T08:16:01.886646300Z",
     "start_time": "2023-12-09T08:16:01.815713Z"
    },
    "datalore": {
     "hide_input_from_viewers": true,
     "hide_output_from_viewers": true,
     "node_id": "xEe9p7iT3dtSv6rF9KkzLO",
     "type": "CODE"
    }
   },
   "outputs": [],
   "source": [
    "df.groupby('пол')['возраст'].mean()"
   ]
  },
  {
   "cell_type": "markdown",
   "metadata": {
    "datalore": {
     "hide_input_from_viewers": true,
     "hide_output_from_viewers": true,
     "node_id": "gz6MitEo7QCrBHlDI8ZOes",
     "type": "MD"
    }
   },
   "source": [
    "\n",
    "По стране:"
   ]
  },
  {
   "cell_type": "code",
   "execution_count": null,
   "metadata": {
    "ExecuteTime": {
     "end_time": "2023-12-09T08:16:02.004558300Z",
     "start_time": "2023-12-09T08:16:01.849248900Z"
    },
    "datalore": {
     "hide_input_from_viewers": true,
     "hide_output_from_viewers": true,
     "node_id": "c9xNEvc36TyPoRhCL3XRLb",
     "type": "CODE"
    }
   },
   "outputs": [],
   "source": [
    "df.groupby('страна')['возраст'].mean()"
   ]
  },
  {
   "cell_type": "code",
   "execution_count": null,
   "metadata": {
    "ExecuteTime": {
     "end_time": "2023-12-09T08:16:02.282608500Z",
     "start_time": "2023-12-09T08:16:01.863610200Z"
    },
    "datalore": {
     "hide_input_from_viewers": true,
     "hide_output_from_viewers": true,
     "node_id": "yTlN1cSNfPhz2HrTW4UPa9",
     "type": "CODE"
    }
   },
   "outputs": [],
   "source": [
    "print(df.groupby(['страна', 'пол'])['возраст'].mean())"
   ]
  },
  {
   "cell_type": "markdown",
   "metadata": {
    "datalore": {
     "hide_input_from_viewers": true,
     "hide_output_from_viewers": true,
     "node_id": "7IOJ49XScgzoIH6LylIeLQ",
     "type": "MD"
    }
   },
   "source": [
    "## Медианное значение влажности и температуры для каждого типа охлаждения (task 10)"
   ]
  },
  {
   "cell_type": "code",
   "execution_count": null,
   "metadata": {
    "ExecuteTime": {
     "end_time": "2023-12-09T08:16:02.286609300Z",
     "start_time": "2023-12-09T08:16:01.887647100Z"
    },
    "datalore": {
     "hide_input_from_viewers": true,
     "hide_output_from_viewers": true,
     "node_id": "SxC18QmtWY7BxWgUvMqgwP",
     "type": "CODE"
    },
    "scrolled": true
   },
   "outputs": [],
   "source": [
    "df.groupby('способ_охлаждения')[['температура_воздуха_в_помещении', 'rh']].median()"
   ]
  },
  {
   "cell_type": "markdown",
   "metadata": {
    "datalore": {
     "hide_input_from_viewers": true,
     "hide_output_from_viewers": true,
     "node_id": "v2SdMSxi0skU1dCOkbyasT",
     "type": "MD"
    }
   },
   "source": [
    "## Сводная таблица с данными, сгрупированными по стране, полу, возрастной группе(Task 11)"
   ]
  },
  {
   "cell_type": "code",
   "execution_count": null,
   "metadata": {
    "ExecuteTime": {
     "end_time": "2023-12-09T08:16:02.287613900Z",
     "start_time": "2023-12-09T08:16:01.910315800Z"
    },
    "datalore": {
     "hide_input_from_viewers": true,
     "hide_output_from_viewers": true,
     "node_id": "8X89lVW18ML6BiO2GRo3Sk",
     "type": "CODE"
    }
   },
   "outputs": [],
   "source": [
    "print(df.groupby(['страна', 'пол', 'возрастная_группа'])[['температура_воздуха_в_помещении', 'температура_воздуха_на_улице', 'rh']].mean())"
   ]
  },
  {
   "cell_type": "markdown",
   "metadata": {
    "datalore": {
     "hide_input_from_viewers": true,
     "hide_output_from_viewers": true,
     "node_id": "GJMkYwVREw6oQXvnAfQ9TX",
     "type": "MD"
    }
   },
   "source": [
    "## Стандартная комфортная относительная влажность в помещениях (task 13)\n",
    "- Согласно [СанПиН 2.2.4.548—96](https://kpfu.ru/portal/docs/F_979595184/SanPiN.2.2.4.548_96.o.mikroklimate.pdf) оптимальная влажность в рабочих помещениях в теплое и холодное время года должна составлять от $40\\% - 60 \\%$.\n",
    "- Однако, согласно Управлению по охране труда США (Occupational Safety and Health Administration, OSHA) оптимальная влажность должна лежать в диапазоне от $20\\% - 60\\%$. [Ссылка на положение](https://www.osha.gov/laws-regs/standardinterpretations/2003-02-24).\n",
    "\n",
    "Тем не менее, диапазон от $40$ до $60$ является более щадящим, что подтверждается приведенной ниже диаграммой. Поэтому в рамках нашего исследования мы будем опираться на него.\n",
    "![](https://cndarcdn.scdn3.secure.raxcdn.com/m/0/diagramma-scofild-sterling-rus-01-1.jpg) [Страница с исследованиями в защиту диапазона от 40 до 60](https://40to60rh.com/)"
   ]
  },
  {
   "cell_type": "code",
   "execution_count": null,
   "metadata": {
    "ExecuteTime": {
     "end_time": "2023-12-09T08:16:02.339669100Z",
     "start_time": "2023-12-09T08:16:01.958535900Z"
    },
    "datalore": {
     "hide_input_from_viewers": true,
     "hide_output_from_viewers": true,
     "node_id": "VGK09SpMxBF44OUFp4lF69",
     "type": "CODE"
    }
   },
   "outputs": [],
   "source": [
    "def rh2cat(rh):\n",
    "    if 40 <= rh <= 60:\n",
    "        return \"Нормальная влажность\"\n",
    "    if rh < 40:\n",
    "        return \"Пониженная влажность\"\n",
    "    return \"Повышенная влажность\"\n",
    "\n",
    "df['rh_кат'] = df['rh'].apply(rh2cat)\n",
    "\n",
    "pd.value_counts(df['rh_кат']).plot.pie()\n",
    "plt.show()"
   ]
  },
  {
   "cell_type": "markdown",
   "metadata": {
    "datalore": {
     "hide_input_from_viewers": true,
     "hide_output_from_viewers": true,
     "node_id": "QmLu8KTZA8W7G0ZJUTHyp0",
     "type": "MD"
    }
   },
   "source": [
    "## Корреляция между параметрами (task14)"
   ]
  },
  {
   "cell_type": "code",
   "execution_count": null,
   "metadata": {
    "ExecuteTime": {
     "end_time": "2023-12-09T08:16:03.806774200Z",
     "start_time": "2023-12-09T08:16:02.092483600Z"
    },
    "datalore": {
     "hide_input_from_viewers": true,
     "hide_output_from_viewers": true,
     "node_id": "lYibMU191XEcBI6Eg6KVYV",
     "type": "CODE"
    }
   },
   "outputs": [],
   "source": [
    "# Рассматриваем cущественные корреляции Номинальная-Номаинальная \n",
    "\n",
    "\n",
    "for col1, col2 in itertools.combinations(list(df.columns), 2):\n",
    "    if col1 in categorial and col2 in categorial:\n",
    "        if col1 == col2:\n",
    "            continue\n",
    "\n",
    "        table = pd.crosstab(df[col1], df[col2])\n",
    "        if len(table) == 0:\n",
    "            continue\n",
    "        \n",
    "        res = stats.chi2_contingency(table)\n",
    "        if res[1] < 0.05:\n",
    "            n = table.sum().sum()\n",
    "            phi2 = res[0] / n\n",
    "            kramer = np.sqrt(phi2 / (min(table.shape) - 1))\n",
    "            if kramer > 0.6:\n",
    "                print(col1, col2, \"  K=\", kramer, \"  p=\", res[1])"
   ]
  },
  {
   "cell_type": "markdown",
   "metadata": {
    "datalore": {
     "hide_input_from_viewers": true,
     "hide_output_from_viewers": true,
     "node_id": "auSnGyXb7yeTzKxLl4YDsG",
     "type": "MD"
    }
   },
   "source": [
    "- корреляции год - <что-то> являются особенностью данных (за 2010 собраны данные за один город, за 2011 за другой)\n",
    "- климат - год, климат - страна: корреляции очевидны (города не перемещаются из одной климатической зоны в другую, по крайней мере в рамках наших данных)\n",
    "- город - способ_охлаждения: эти данные нам также ничего не дают\n",
    "- страна - <что-то>: особенности данных\n",
    "- способ_охлаждение - отопление: это не имеет смысла, поскольку корреляция не видна графическим методом и данные содержат много пропусков. Если эти пропуски убрать, то pvalue значительно поднимется\n",
    "- ощущение_движения_воздуха_(bool) - ощущение_температуры_(bool): видимо если людям нравится как двигается воздух, то им нравится температура\n",
    "- ощущение_движения_воздуха_(bool) - предпочтительное_изменение_температуры: если людям нравится как движется воздух, то они не хотят менять температуру?\n",
    "- занавески - вентилятор: наличие занавесок говорит нам о наличии вентрилятора у человека"
   ]
  },
  {
   "cell_type": "code",
   "execution_count": null,
   "metadata": {
    "ExecuteTime": {
     "end_time": "2023-12-09T08:16:03.975643500Z",
     "start_time": "2023-12-09T08:16:03.412909600Z"
    },
    "datalore": {
     "hide_input_from_viewers": true,
     "hide_output_from_viewers": true,
     "node_id": "gxVbkM4nFsiixi1PoAOAYh",
     "type": "CODE"
    }
   },
   "outputs": [],
   "source": [
    "show_pie_charts('занавески', 'вентилятор')"
   ]
  },
  {
   "cell_type": "code",
   "execution_count": null,
   "metadata": {
    "ExecuteTime": {
     "end_time": "2023-12-09T08:16:05.895643700Z",
     "start_time": "2023-12-09T08:16:03.932406100Z"
    },
    "datalore": {
     "hide_input_from_viewers": true,
     "hide_output_from_viewers": true,
     "node_id": "i6gZcsUmpWqvewrdSLqDWr",
     "type": "CODE"
    }
   },
   "outputs": [],
   "source": [
    "# Рассматриваем cущественные корреляции Количественная-Номаинальная \n",
    "temp_df = df.copy()\n",
    "temp_df['способ_обогрева'] = temp_df['способ_обогрева'].fillna('нет')\n",
    "\n",
    "\n",
    "for col1, col2 in itertools.product(list(categorial), list(numerical), repeat=1):\n",
    "    vals = pd.get_dummies(df[col1], dummy_na=True)\n",
    "    vals['ind'] = vals.apply(lambda row: list(row).index(1), axis=1)\n",
    "\n",
    "    res = df[col2].corr(vals['ind'])\n",
    "\n",
    "    if res > 0.5:\n",
    "        print(col1, col2,  res)"
   ]
  },
  {
   "cell_type": "code",
   "execution_count": null,
   "metadata": {
    "ExecuteTime": {
     "end_time": "2023-12-09T08:16:06.206267800Z",
     "start_time": "2023-12-09T08:16:05.986308400Z"
    },
    "datalore": {
     "hide_input_from_viewers": true,
     "hide_output_from_viewers": true,
     "node_id": "1sGLSCEu35dguDQnBpzqCe",
     "type": "CODE"
    }
   },
   "outputs": [],
   "source": [
    "sns.boxplot(data=temp_df, x='ощущение_движения_воздуха_(bool)', y='утепление')"
   ]
  },
  {
   "cell_type": "markdown",
   "metadata": {
    "datalore": {
     "hide_input_from_viewers": true,
     "hide_output_from_viewers": true,
     "node_id": "FKpKyAwwXECSqzolljfEhq",
     "type": "MD"
    }
   },
   "source": [
    "- ощущение_движения_воздуха_(bool) - утепление: если опрошенный считает движение воздуха хорошим, то он утепляется меньше. (средняя корреляция)"
   ]
  },
  {
   "cell_type": "code",
   "execution_count": null,
   "metadata": {
    "ExecuteTime": {
     "end_time": "2023-12-09T08:16:06.409513800Z",
     "start_time": "2023-12-09T08:16:06.206267800Z"
    },
    "datalore": {
     "hide_input_from_viewers": true,
     "hide_output_from_viewers": true,
     "node_id": "vbFerZOk5eL3wUl4AFTzq0",
     "type": "CODE"
    }
   },
   "outputs": [],
   "source": [
    "sns.boxplot(data=temp_df, x='способ_обогрева', y='среднемесячная_температура_на_улице')"
   ]
  },
  {
   "cell_type": "markdown",
   "metadata": {
    "datalore": {
     "hide_input_from_viewers": true,
     "hide_output_from_viewers": true,
     "node_id": "XMhTtd0ETvMX9OWLiduOGR",
     "type": "MD"
    }
   },
   "source": [
    "- способ_обогрева - среднемесячная_температура_на_улице: очевидно, что от среднемесичной теспературы будет зависеть, стоит ли у людей в доме отопление или нет. (средняя корреляция)"
   ]
  },
  {
   "cell_type": "code",
   "execution_count": null,
   "metadata": {
    "ExecuteTime": {
     "end_time": "2023-12-09T08:16:06.751582200Z",
     "start_time": "2023-12-09T08:16:06.409513800Z"
    },
    "datalore": {
     "hide_input_from_viewers": true,
     "hide_output_from_viewers": true,
     "node_id": "kbQ4Dj30ftrb4bkwJwcVqk",
     "type": "CODE"
    }
   },
   "outputs": [],
   "source": [
    "sns.boxplot(data=temp_df, x='пол', y='рост')"
   ]
  },
  {
   "cell_type": "markdown",
   "metadata": {
    "datalore": {
     "hide_input_from_viewers": true,
     "hide_output_from_viewers": true,
     "node_id": "SZR0cfid25xfXDVj2rQRbg",
     "type": "MD"
    }
   },
   "source": [
    "- пол - рост\n",
    "- климат - утепление: в жарких краях люди не вынуждены носить много теплой одежды\n",
    "- страна - среднемесячная_температура_на_улице: погода (температура) циклична"
   ]
  },
  {
   "cell_type": "code",
   "execution_count": null,
   "metadata": {
    "ExecuteTime": {
     "end_time": "2023-12-09T08:16:06.826605400Z",
     "start_time": "2023-12-09T08:16:06.734562500Z"
    },
    "datalore": {
     "hide_input_from_viewers": true,
     "hide_output_from_viewers": true,
     "node_id": "5zTgv2HKJNv2LBKVjBLwZf",
     "type": "CODE"
    }
   },
   "outputs": [],
   "source": [
    "# Рассматриваем cущественные корреляции Количественная-Количественная\n",
    "\n",
    "for col1, col2 in itertools.product(list(numerical), list(numerical), repeat=1):\n",
    "    if col1 == col2:\n",
    "        continue\n",
    "\n",
    "    res = df[col1].corr(df[col2])\n",
    "\n",
    "    if res > 0.5:\n",
    "        print(col1, col2, res)"
   ]
  },
  {
   "cell_type": "markdown",
   "metadata": {
    "datalore": {
     "hide_input_from_viewers": true,
     "hide_output_from_viewers": true,
     "node_id": "qSJJwznHa7hr3EfvKC77Mm",
     "type": "MD"
    }
   },
   "source": [
    "- температура_воздуха_в_помещении - температура_воздуха_на_улице: логично\n",
    "- рост - вес: хорошего человека должно быть много"
   ]
  },
  {
   "cell_type": "markdown",
   "metadata": {
    "datalore": {
     "hide_input_from_viewers": true,
     "hide_output_from_viewers": true,
     "node_id": "C1a379nAztNtHfBnCiuy9D",
     "type": "MD"
    }
   },
   "source": [
    "# Проверка гипотез"
   ]
  },
  {
   "cell_type": "markdown",
   "metadata": {
    "datalore": {
     "hide_input_from_viewers": true,
     "hide_output_from_viewers": true,
     "node_id": "0VpmwDqkI7K3ZchZx3IF6t",
     "type": "MD"
    }
   },
   "source": [
    "## Влияет ли способ охлаждения на оценку комфорта (task 15)\n",
    "\n",
    "- Нулевая гипотеза: влияния/эффекта нет\n",
    "- Альтернативная гипотеза: влияние/эффект есть"
   ]
  },
  {
   "cell_type": "code",
   "execution_count": null,
   "metadata": {
    "ExecuteTime": {
     "end_time": "2023-12-09T08:16:07.372213800Z",
     "start_time": "2023-12-09T08:16:06.826605400Z"
    },
    "datalore": {
     "hide_input_from_viewers": true,
     "hide_output_from_viewers": true,
     "node_id": "6H0E2G7J4LwJT42mLQO7ve",
     "type": "CODE"
    }
   },
   "outputs": [],
   "source": [
    "temp_df = df[['способ_охлаждения', 'оценка_комфорта']].copy()\n",
    "temp_df = temp_df.dropna()\n",
    "\n",
    "sns.boxplot(x='способ_охлаждения', y='оценка_комфорта', data=temp_df)\n",
    "plt.show()\n",
    "\n",
    "# Шкалы разные: способ охлаждения - номинальная (3 уровня), оценка комфорта - количественная\n",
    "# Проверка как распределена оценка комфорта\n",
    "\n",
    "print(\"Распрление нормальное?: \", stats.shapiro(temp_df['оценка_комфорта'])[1] >= 0.05)\n",
    "\n",
    "# Распределение не нормальное, поэтому применяем критерий Краскела-Уоллеса\n",
    "\n",
    "g1 = temp_df[temp_df['способ_охлаждения'] == 'Смешанный']['оценка_комфорта']\n",
    "g2 = temp_df[temp_df['способ_охлаждения'] == 'Вентиляция']['оценка_комфорта']\n",
    "g3 = temp_df[temp_df['способ_охлаждения'] == 'Кондиционирование']['оценка_комфорта']\n",
    "print(\"pvalue =\", stats.kruskal(g1, g2, g3))"
   ]
  },
  {
   "cell_type": "markdown",
   "metadata": {},
   "source": [
    "pvalue получилось более 0.05, значит мы не можем отвергнуть нулевую гипотезу о том, что фактор и отклик как-либо зависимы. То есть **подтвердить влияние типа охлаждения на оценку комфорта невозможно при наших данных.**"
   ]
  },
  {
   "cell_type": "markdown",
   "metadata": {
    "datalore": {
     "hide_input_from_viewers": true,
     "hide_output_from_viewers": true,
     "node_id": "SMXM6jBcN3QSM3DM9Xxfjf",
     "type": "MD"
    }
   },
   "source": [
    "## Влияние пола на оценку комфорта (task16)\n",
    "\n",
    "- Нулевая гипотеза: влияния/эффекта нет\n",
    "- Альтернативная гипотеза: влияние/эффект есть"
   ]
  },
  {
   "cell_type": "code",
   "execution_count": null,
   "metadata": {
    "ExecuteTime": {
     "end_time": "2023-12-09T08:16:07.630593800Z",
     "start_time": "2023-12-09T08:16:07.364611600Z"
    },
    "datalore": {
     "hide_input_from_viewers": true,
     "hide_output_from_viewers": true,
     "node_id": "VgyJzMFYoaszCo4c1HoEN1",
     "type": "CODE"
    },
    "scrolled": true
   },
   "outputs": [],
   "source": [
    "temp_df = df[['пол', 'оценка_комфорта']].copy()\n",
    "temp_df = temp_df.dropna()\n",
    "\n",
    "sns.boxplot(x='пол', y='оценка_комфорта', data=temp_df)\n",
    "plt.show()\n",
    "\n",
    "# Шкалы разные: пол - номинальная (2 уровня), оценка комфорта - количественная\n",
    "# Проверка как распределена оценка комфорта\n",
    "\n",
    "print(\"Распрление нормальное?: \", stats.shapiro(temp_df['оценка_комфорта'])[1] >= 0.05)\n",
    "\n",
    "# Распределение не нормальное, поэтому применяем метод Манна-Уитни\n",
    "\n",
    "g1 = temp_df[temp_df['пол'] == 'Мужской']['оценка_комфорта']\n",
    "g2 = temp_df[temp_df['пол'] == 'Женский']['оценка_комфорта']\n",
    "\n",
    "print(\"pvalue =\", stats.mannwhitneyu(g1, g2)[1])\n",
    "\n",
    "# Если оценка_комфорта это номинальная шкала, то есть нужно применить хи-квадрат чтобы проверить корреляцию\n",
    "\n",
    "table = pd.crosstab(df['пол'], df['оценка_комфорта'])\n",
    "\n",
    "res = stats.chi2_contingency(table)\n",
    "\n",
    "n = table.sum().sum()\n",
    "phi2 = res[0] / n\n",
    "kramer = np.sqrt(phi2 / (min(table.shape) - 1))\n",
    "print(\"Если считать что кто оценка_комфорта это также номинальная шкала\", \"   K=\", kramer, \"  p=\", res[1])"
   ]
  },
  {
   "cell_type": "markdown",
   "metadata": {
    "datalore": {
     "hide_input_from_viewers": true,
     "hide_output_from_viewers": true,
     "node_id": "O0xM4NVPRaCLgWYPF7mfcp",
     "type": "MD"
    }
   },
   "source": [
    "pvalue получилось более 0.05, значит мы не можем отвергнуть нулевую гипотезу о том, что фактор и отклик как-либо зависимы. То есть **подтвердить влияние пола на оценку комфорта невозможно при наших данных.**"
   ]
  },
  {
   "cell_type": "markdown",
   "metadata": {
    "datalore": {
     "hide_input_from_viewers": true,
     "hide_output_from_viewers": true,
     "node_id": "slAudxdAh3V2A6j0DuzMsk",
     "type": "MD"
    }
   },
   "source": [
    "## Влияет ли возрастная группа на оценку комфорта (task17)\n",
    "- Нулевая гипотеза: влияния/эффекта нет\n",
    "- Альтернативная гипотеза: влияние/эффект есть"
   ]
  },
  {
   "cell_type": "code",
   "execution_count": null,
   "metadata": {
    "ExecuteTime": {
     "end_time": "2023-12-09T08:16:07.827478800Z",
     "start_time": "2023-12-09T08:16:07.629639500Z"
    },
    "datalore": {
     "hide_input_from_viewers": true,
     "hide_output_from_viewers": true,
     "node_id": "ilF34OdzpJ427YHOD6ipuF",
     "type": "CODE"
    }
   },
   "outputs": [],
   "source": [
    "fig, ax = plt.subplots(figsize=(9,5))\n",
    "sns.boxplot(df, x='возрастная_группа', y='оценка_комфорта', ax=ax)"
   ]
  },
  {
   "cell_type": "markdown",
   "metadata": {
    "datalore": {
     "hide_input_from_viewers": true,
     "hide_output_from_viewers": true,
     "node_id": "sCkmSCcqceghMFgFOOEbS1",
     "type": "MD"
    }
   },
   "source": [
    "Поскольку `возрастная_группа` представленна в виде категориальной шкалы, а `оценка_комфорта` в количественной, то будем использовать критерий Красскела-Уоллеса или ANOVA. Для это определим нормальность распределения в столбце `оценка_комфорта` "
   ]
  },
  {
   "cell_type": "code",
   "execution_count": null,
   "metadata": {
    "ExecuteTime": {
     "end_time": "2023-12-09T08:16:08.171550900Z",
     "start_time": "2023-12-09T08:16:07.818475700Z"
    },
    "datalore": {
     "hide_input_from_viewers": true,
     "hide_output_from_viewers": true,
     "node_id": "VpMaBxtcVNZdQbV12d9AkA",
     "type": "CODE"
    }
   },
   "outputs": [],
   "source": [
    "sns.histplot(df, x='оценка_комфорта', kde=True, bins=5)\n",
    "\n",
    "if stats.shapiro(df['оценка_комфорта'])[1] >= 0.5:\n",
    "    print('Распределение \\033[1mнормальнное\\033[0m, исппользуем ANOVA')\n",
    "else:\n",
    "    print('Распределение \\033[1mненормальное\\033[0m, используем критерий Красскела-Уоллеса')"
   ]
  },
  {
   "cell_type": "code",
   "execution_count": null,
   "metadata": {
    "ExecuteTime": {
     "end_time": "2023-12-09T08:16:08.189591200Z",
     "start_time": "2023-12-09T08:16:08.128554300Z"
    },
    "datalore": {
     "hide_input_from_viewers": true,
     "hide_output_from_viewers": true,
     "node_id": "k0qu828oh6DMpWsnRu5cyC",
     "type": "CODE"
    }
   },
   "outputs": [],
   "source": [
    "gp = df.groupby('возрастная_группа')['оценка_комфорта']\n",
    "anova = stats.f_oneway(*(v for v in gp.groups.values()))\n",
    "anova"
   ]
  },
  {
   "cell_type": "code",
   "execution_count": null,
   "metadata": {
    "ExecuteTime": {
     "end_time": "2023-12-09T08:16:08.191611100Z",
     "start_time": "2023-12-09T08:16:08.131555400Z"
    },
    "datalore": {
     "hide_input_from_viewers": true,
     "hide_output_from_viewers": true,
     "node_id": "Rrr5B1JOFAG8QskuoHb9VO",
     "type": "CODE"
    }
   },
   "outputs": [],
   "source": [
    "if anova[1] >= 0.05:\n",
    "    print('Поскольку p-значение не меньше 0,05, мы \\033[1mне\\033[0m можем отвергнуть нулевую гипотезу.\\n'\n",
    "          'Следовательно, у нас нет достаточных доказательств того, что возрастная группа влияет на оценку комфорта.')\n",
    "else:\n",
    "    print('Поскольку p-значение меньше 0,05, мы можем отвергнуть нулевую гипотезу.\\n'\n",
    "          'Следовательно, у нас достаточно доказательств того, что возрастная группа \\033[1mвлияет\\033[0m на оценку комфорта.')"
   ]
  },
  {
   "cell_type": "markdown",
   "metadata": {
    "datalore": {
     "hide_input_from_viewers": true,
     "hide_output_from_viewers": true,
     "node_id": "oEVdoAgkhrhMi0L7lF0Zsh",
     "type": "MD"
    }
   },
   "source": [
    "## Взаимосвязь между количеством рекламаций и оценкой комфорта (task18)\n",
    "- Нулевая гипотеза: влияния/эффекта нет\n",
    "- Альтернативная гипотеза: влияние/эффект есть"
   ]
  },
  {
   "cell_type": "code",
   "execution_count": null,
   "metadata": {
    "ExecuteTime": {
     "end_time": "2023-12-09T08:16:08.653451900Z",
     "start_time": "2023-12-09T08:16:08.150567800Z"
    },
    "datalore": {
     "hide_input_from_viewers": true,
     "hide_output_from_viewers": true,
     "node_id": "WAkhQ4dDpmEGeVSYscaOQr",
     "type": "CODE"
    }
   },
   "outputs": [],
   "source": [
    "temp_df = df[['оценка_комфорта', 'количество_рекламаций']].copy()\n",
    "temp_df = temp_df.dropna()\n",
    "\n",
    "print(\"корелляция и pvalue: \", stats.pearsonr(temp_df['количество_рекламаций'], temp_df['оценка_комфорта']))\n",
    "\n",
    "sns.regplot(df, x='количество_рекламаций', y='оценка_комфорта')\n",
    "plt.show()"
   ]
  },
  {
   "cell_type": "markdown",
   "metadata": {
    "datalore": {
     "hide_input_from_viewers": true,
     "hide_output_from_viewers": true,
     "node_id": "e37VgqiYtsQ0G0mB6n2o55",
     "type": "MD"
    }
   },
   "source": [
    "Корреляция (0.5) не сильная, однако и не нулевая. Pvalue намного меньше 0.05, поэтому мы можем доверять полученной корреляции. *То есть взаимосвязь есть, однако она не сильная.*"
   ]
  },
  {
   "cell_type": "markdown",
   "metadata": {
    "datalore": {
     "hide_input_from_viewers": true,
     "hide_output_from_viewers": true,
     "node_id": "ptRk9fYrlqS25NnXuCQIox",
     "type": "MD"
    }
   },
   "source": [
    "## Проверить гипотезу о том, что средняя оценка комфорта отличается в зависимости от страны (task19)\n",
    "- Нулевая гипотеза: влияния/эффекта нет\n",
    "- Альтернативная гипотеза: влияние/эффект есть"
   ]
  },
  {
   "cell_type": "code",
   "execution_count": null,
   "metadata": {
    "ExecuteTime": {
     "end_time": "2023-12-09T08:16:08.669501600Z",
     "start_time": "2023-12-09T08:16:08.653451900Z"
    }
   },
   "outputs": [],
   "source": [
    "pd.read_csv('../Данные по использованию климатических систем.csv', sep=';').groupby('Страна')['Ощущение движения воздуха (bool)'].sum()"
   ]
  },
  {
   "cell_type": "code",
   "execution_count": null,
   "metadata": {
    "ExecuteTime": {
     "end_time": "2023-12-09T08:16:08.870458200Z",
     "start_time": "2023-12-09T08:16:08.668503700Z"
    },
    "datalore": {
     "hide_input_from_viewers": true,
     "hide_output_from_viewers": true,
     "node_id": "raKnfDRkHhmAickEHMhNmI",
     "type": "CODE"
    }
   },
   "outputs": [],
   "source": [
    "fig, ax = plt.subplots(figsize=(9,5))\n",
    "sns.boxplot(df, x='страна', y='оценка_комфорта', ax=ax)"
   ]
  },
  {
   "cell_type": "markdown",
   "metadata": {
    "datalore": {
     "hide_input_from_viewers": true,
     "hide_output_from_viewers": true,
     "node_id": "x5ow5bNxcHz1yvFFSA0uJC",
     "type": "MD"
    }
   },
   "source": [
    "По графику не трудно заметить, что средняя оценка у Индии больше чем у США, а у Австралии вообще нет оценок.\n",
    "Впрочем это можно подтвердить математически"
   ]
  },
  {
   "cell_type": "code",
   "execution_count": null,
   "metadata": {
    "ExecuteTime": {
     "end_time": "2023-12-09T08:16:08.898496800Z",
     "start_time": "2023-12-09T08:16:08.870458200Z"
    },
    "datalore": {
     "hide_input_from_viewers": true,
     "hide_output_from_viewers": true,
     "node_id": "OiQkRA0QBgrOyHHIXvJRYJ",
     "type": "CODE"
    }
   },
   "outputs": [],
   "source": [
    "df.groupby('страна')['оценка_комфорта'].mean()"
   ]
  },
  {
   "cell_type": "markdown",
   "metadata": {
    "datalore": {
     "hide_input_from_viewers": true,
     "hide_output_from_viewers": true,
     "node_id": "CDteaNU64TBubdKnMZvi5S",
     "type": "MD"
    }
   },
   "source": [
    "Итак, средняя оценка комфортра отличается в зависимости от страны"
   ]
  },
  {
   "cell_type": "markdown",
   "metadata": {},
   "source": [
    "## Выдвинуть и проверить гипотезу по влиянию разных факторов на оценку комфорта/ощущение температуры/ощущение движения воздуха (task 21)"
   ]
  },
  {
   "cell_type": "markdown",
   "metadata": {
    "ExecuteTime": {
     "end_time": "2023-12-09T08:16:08.901501600Z",
     "start_time": "2023-12-09T08:16:08.891978400Z"
    }
   },
   "source": [
    "### Оценка комфорта\n",
    "\n",
    "**Гипотеза**\n",
    "> **Категории относительная влажность** влияет на **оценку комфорта**  \n",
    "\n",
    "- Нулевая гипотеза: влияния/эффекта нет\n",
    "- Альтернативная гипотеза: влияние/эффект есть"
   ]
  },
  {
   "cell_type": "code",
   "execution_count": null,
   "metadata": {},
   "outputs": [],
   "source": [
    "# Поскольку колонки "
   ]
  },
  {
   "cell_type": "markdown",
   "metadata": {
    "datalore": {
     "hide_input_from_viewers": true,
     "hide_output_from_viewers": true,
     "node_id": "crLVtJb5zBqaFFQlM12qHf",
     "type": "MD"
    }
   },
   "source": [
    "## Влияние разных факторов на оценку комфорта/ощущение температуры/ощущение движения воздуха (task 22)"
   ]
  },
  {
   "cell_type": "markdown",
   "metadata": {
    "datalore": {
     "hide_input_from_viewers": true,
     "hide_output_from_viewers": true,
     "node_id": "uK1kjXzMyhIOWfkoJgTF2y",
     "type": "MD"
    }
   },
   "source": [
    "### Оценка комфорта\n",
    "\n",
    "**Гипотеза**\n",
    "> **Категории относительная влажность** влияет на **оценку комфорта**  \n",
    "\n",
    "- Нулевая гипотеза: влияния/эффекта нет\n",
    "- Альтернативная гипотеза: влияние/эффект есть"
   ]
  },
  {
   "cell_type": "code",
   "execution_count": null,
   "metadata": {
    "ExecuteTime": {
     "end_time": "2023-12-09T08:16:09.013589400Z",
     "start_time": "2023-12-09T08:16:08.899495300Z"
    },
    "datalore": {
     "hide_input_from_viewers": true,
     "hide_output_from_viewers": true,
     "node_id": "zrmuOGqBQMiJ3qHvGbgkDa",
     "type": "CODE"
    }
   },
   "outputs": [],
   "source": [
    "# Поскольку колонки rh_кат и оценка_комфорта представленны разными типами\n",
    "# А в rh_кат более двух уровней, будем использовать ANOVA или критерий Красскела-Уоллеса\n",
    "\n",
    "temp_df = df[['rh_кат', 'оценка_комфорта']].copy().dropna()\n",
    "\n",
    "gp = temp_df.groupby('rh_кат')\n",
    "if stats.shapiro(temp_df.оценка_комфорта)[1] >= 0.5:\n",
    "    temp = stats.f_oneway(*(v for v in gp.groups.values()))\n",
    "else:\n",
    "    temp = stats.kruskal(*(v for v in gp.groups.values()))\n",
    "\n",
    "print(temp)\n",
    "\n",
    "if temp[1] >= 0.05:\n",
    "    print('Поскольку p-значение не меньше 0,05, мы \\033[1mне\\033[0m можем отвергнуть нулевую гипотезу.\\n'\n",
    "          'Следовательно, у нас нет достаточных доказательств того, что категории относительной влажности влияют на оценку комфорта.')\n",
    "else:\n",
    "    print('Поскольку p-значение меньше 0,05, мы можем отвергнуть нулевую гипотезу.\\n'\n",
    "          'Следовательно, у нас достаточно доказательств того, что категории относительной влажности \\033[1mвлияет\\033[0m на оценку комфорта.')"
   ]
  },
  {
   "cell_type": "markdown",
   "metadata": {
    "datalore": {
     "hide_input_from_viewers": true,
     "hide_output_from_viewers": true,
     "node_id": "IQlzGVaBsiHE1m3d4PEIxY",
     "type": "MD"
    }
   },
   "source": [
    "### Ощущение температуры\n",
    "\n",
    "**Гипотеза**\n",
    "> принадлежность респондента к возрастной группе влияет на его ощущение температуры  \n",
    "\n",
    "- Нулевая гипотеза: влияния/эффекта нет\n",
    "- Альтернативная гипотеза: влияние/эффект есть"
   ]
  },
  {
   "cell_type": "code",
   "execution_count": null,
   "metadata": {
    "ExecuteTime": {
     "end_time": "2023-12-09T08:16:09.013589400Z",
     "start_time": "2023-12-09T08:16:08.927509Z"
    },
    "datalore": {
     "hide_input_from_viewers": true,
     "hide_output_from_viewers": true,
     "node_id": "J4kiRDZrBVhJhi7yqGWmky",
     "type": "CODE"
    }
   },
   "outputs": [],
   "source": [
    "# Поскольку колонки возрастная_группа и ощущение_температуры представленны разными типами\n",
    "# А в возрастная_группе более двух уровней, будем использовать ANOVA или критерий Красскела-Уоллеса\n",
    "\n",
    "temp_df = df[['возрастная_группа', 'ощущение_температуры']].copy().dropna()\n",
    "\n",
    "gp = temp_df.groupby(\"возрастная_группа\")\n",
    "if stats.shapiro(temp_df.ощущение_температуры)[1] >= 0.5:\n",
    "    temp = stats.f_oneway(*(v for v in gp.groups.values()))\n",
    "else:\n",
    "    temp = stats.kruskal(*(v for v in gp.groups.values()))\n",
    "\n",
    "print(temp)\n",
    "\n",
    "if temp[1] >= 0.05:\n",
    "    print('Поскольку p-значение не меньше 0,05, мы \\033[1mне\\033[0m можем отвергнуть нулевую гипотезу.\\n'\n",
    "          'Следовательно, у нас нет достаточных доказательств того, что принадлежность к возрастной группе влияет на оценку комфорта')\n",
    "else:\n",
    "    print('Поскольку p-значение меньше 0,05, мы можем отвергнуть нулевую гипотезу.\\n'\n",
    "          'Следовательно, у нас достаточно доказательств того, что принадлежность к возрастной группе влияет на оценку комфорта.')"
   ]
  },
  {
   "cell_type": "markdown",
   "metadata": {
    "datalore": {
     "hide_input_from_viewers": true,
     "hide_output_from_viewers": true,
     "node_id": "C4JHIDqYJdSdiErKbqZwfW",
     "type": "MD"
    }
   },
   "source": [
    "### Ощущение движения воздуха\n",
    "\n",
    "**Гипотеза**\n",
    "> В работе ...\n",
    "\n",
    "- Нулевая гипотеза: влияния/эффекта нет\n",
    "- Альтернативная гипотеза: влияние/эффект есть"
   ]
  },
  {
   "cell_type": "code",
   "execution_count": null,
   "metadata": {
    "ExecuteTime": {
     "end_time": "2023-12-09T08:19:37.117345900Z",
     "start_time": "2023-12-09T08:19:36.944418300Z"
    },
    "collapsed": false,
    "jupyter": {
     "outputs_hidden": false
    }
   },
   "outputs": [],
   "source": [
    "temp_df = df[['ощущение_движения_воздуха_(bool)', 'rh_кат']].copy().dropna()\n",
    "\n",
    "crosstab = pd.crosstab(temp_df['ощущение_движения_воздуха_(bool)'], temp_df['rh_кат'])\n",
    "chi2 = stats.chi2_contingency(crosstab)[0]\n",
    "n = crosstab.sum().sum()\n",
    "phi2 = chi2 / n\n",
    "kramer = np.sqrt(phi2 / (min(crosstab.shape) - 1))\n",
    "\n",
    "print(kramer)"
   ]
  },
  {
   "cell_type": "markdown",
   "metadata": {
    "datalore": {
     "hide_input_from_viewers": true,
     "hide_output_from_viewers": true,
     "node_id": "BTWqwlNOFjUdPof0PXf3Nq",
     "type": "MD"
    }
   },
   "source": [
    "## Какая скорость воздуха будет комфортной, и есть ли корреляция оценки воздуха с его реальной скоростью(task20)"
   ]
  },
  {
   "cell_type": "code",
   "execution_count": null,
   "metadata": {
    "ExecuteTime": {
     "end_time": "2023-12-09T08:16:09.875660100Z",
     "start_time": "2023-12-09T08:16:08.988073300Z"
    },
    "datalore": {
     "hide_input_from_viewers": true,
     "hide_output_from_viewers": true,
     "node_id": "vNfjgmWYD8ocFTlLH6WcRp",
     "type": "CODE"
    }
   },
   "outputs": [],
   "source": [
    "temp_df = df[['ощущение_движения_воздуха_(bool)', 'скорость_воздуха']].copy().dropna()\n",
    "\n",
    "plt.figure(figsize=(10,10))\n",
    "sns.boxplot(data=temp_df, x='ощущение_движения_воздуха_(bool)', y='скорость_воздуха')"
   ]
  },
  {
   "cell_type": "code",
   "execution_count": null,
   "metadata": {},
   "outputs": [],
   "source": [
    "_, p = stats.shapiro(temp_df['скорость_воздуха'])\n",
    "\n",
    "if p > 0.05:\n",
    "    print('распределение нормальное')\n",
    "else:\n",
    "    print('распределение ненормальное')\n",
    "\n",
    "# Распределение ненормальное поэтому используем метод Манна-Уитни, чтобы исследовать корреляцию\n",
    "\n",
    "g1 = temp_df[temp_df['ощущение_движения_воздуха_(bool)'] == 1]['скорость_воздуха']\n",
    "g2 = temp_df[temp_df['ощущение_движения_воздуха_(bool)'] == 0]['скорость_воздуха']\n",
    "\n",
    "_, p = stats.mannwhitneyu(g1, g2, alternative='two-sided')\n",
    "print('pvalue = ', p)"
   ]
  },
  {
   "cell_type": "markdown",
   "metadata": {},
   "source": [
    "pvalue меньше 0.05, поэтому мы отвергаем нулевую гипотезу и принимаем альтернативную, что ***распределния не равны и имеют статистически значимые отличия*** </br> Также по графику обратим внимание на медианы и распределение в целом: ***чем меньше скорость воздуха, тем больше шанс, что респондента устраивает скорость воздуха в помещении***"
   ]
  },
  {
   "cell_type": "code",
   "execution_count": null,
   "metadata": {},
   "outputs": [],
   "source": [
    "temp_df = df[['оценка_комфорта', 'скорость_воздуха']].copy().dropna()\n",
    "\n",
    "sns.regplot(data=temp_df, x='оценка_комфорта', y='скорость_воздуха')"
   ]
  },
  {
   "cell_type": "code",
   "execution_count": null,
   "metadata": {
    "scrolled": true
   },
   "outputs": [],
   "source": [
    "_, p = stats.shapiro(temp_df['скорость_воздуха'])\n",
    "\n",
    "if p > 0.05:\n",
    "    print('распределение нормальное')\n",
    "else:\n",
    "    print('распределение ненормальное')\n",
    "\n",
    "# Распределение ненормальное поэтому используем корреляцию Спирмена\n",
    "\n",
    "_, p = stats.spearmanr(temp_df['скорость_воздуха'], temp_df['оценка_комфорта'])\n",
    "print('pvalue = ', p)\n",
    "temp_df['скорость_воздуха'].corr(temp_df['оценка_комфорта'], method='spearman')"
   ]
  },
  {
   "cell_type": "markdown",
   "metadata": {},
   "source": [
    "# Регрессионное моделирование\n"
   ]
  },
  {
   "cell_type": "code",
   "execution_count": null,
   "metadata": {},
   "outputs": [],
   "source": []
  },
  {
   "cell_type": "markdown",
   "metadata": {},
   "source": [
    "# Выводы"
   ]
  },
  {
   "cell_type": "code",
   "execution_count": null,
   "metadata": {
    "ExecuteTime": {
     "end_time": "2023-12-09T08:16:09.876640500Z",
     "start_time": "2023-12-09T08:16:09.747521700Z"
    }
   },
   "outputs": [],
   "source": [
    "df['климат_способ'] = df['климат'] + '_' + df['способ_охлаждения']"
   ]
  },
  {
   "cell_type": "code",
   "execution_count": null,
   "metadata": {
    "ExecuteTime": {
     "end_time": "2023-12-09T08:16:09.876640500Z",
     "start_time": "2023-12-09T08:16:09.757524200Z"
    }
   },
   "outputs": [],
   "source": [
    "temp_df = df[['климат_способ', 'оценка_комфорта']].copy().dropna()\n",
    "# --------------------------------------------------------------------------------------------------------------------------\n",
    "\n",
    "if stats.shapiro(temp_df.оценка_комфорта)[1] >= 0.5:\n",
    "    temp = stats.f_oneway(*(v for v in gp.groups.values()))\n",
    "else:\n",
    "    temp = stats.kruskal(*(v for v in gp.groups.values()))\n",
    "\n",
    "print(temp)"
   ]
  },
  {
   "cell_type": "code",
   "execution_count": null,
   "metadata": {
    "ExecuteTime": {
     "end_time": "2023-12-09T08:16:10.293790800Z",
     "start_time": "2023-12-09T08:16:09.792095100Z"
    }
   },
   "outputs": [],
   "source": [
    "sns.boxplot(temp_df, x='оценка_комфорта', y='климат_способ', order=sorted(temp_df['климат_способ'].unique(), key=lambda x: temp_df[temp_df['климат_способ'] == x]['оценка_комфорта'].median()))"
   ]
  }
 ],
 "metadata": {
  "datalore": {
   "base_environment": "default",
   "computation_mode": "JUPYTER",
   "package_manager": "pip",
   "packages": [],
   "report_row_ids": [
    "GGFsD8QE2qfeafWuFfRe4q",
    "D9t96NRsLyjDOK5CWneyGc"
   ],
   "version": 3
  },
  "kernelspec": {
   "display_name": "Python 3 (ipykernel)",
   "language": "python",
   "name": "python3"
  },
  "language_info": {
   "codemirror_mode": {
    "name": "ipython",
    "version": 3
   },
   "file_extension": ".py",
   "mimetype": "text/x-python",
   "name": "python",
   "nbconvert_exporter": "python",
   "pygments_lexer": "ipython3",
   "version": "3.8.10"
  }
 },
 "nbformat": 4,
 "nbformat_minor": 4
}
